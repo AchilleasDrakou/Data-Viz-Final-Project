{
 "cells": [
  {
   "cell_type": "code",
   "execution_count": 1,
   "metadata": {},
   "outputs": [],
   "source": [
    "import os\n",
    "import numpy as np\n",
    "import pandas as pd\n",
    "import geopandas as gp\n",
    "import math\n",
    "from shapely.geometry import Point\n",
    "\n",
    "import json\n",
    "\n",
    "from bokeh.models import GeoJSONDataSource, LinearColorMapper, ColorBar, NumeralTickFormatter, Div, ColumnDataSource\n",
    "from bokeh.palettes import brewer\n",
    "\n",
    "\n",
    "from bokeh.plotting import figure, save\n",
    "from bokeh.models.widgets import Panel, Tabs\n",
    "from bokeh.io.doc import curdoc\n",
    "from bokeh.layouts import widgetbox, row, column\n",
    "from bokeh.models import ColumnDataSource, HoverTool, BoxZoomTool, ResetTool, SingleIntervalTicker,\\\n",
    "    Slider, Button, Label, CategoricalColorMapper, Legend, Circle, CheckboxButtonGroup, Select, NumeralTickFormatter\n",
    "\n",
    "import json\n",
    "from bokeh.io import show, output_file\n",
    "from bokeh.models import (CDSView, ColorBar, ColumnDataSource,\n",
    "                          CustomJS, CustomJSFilter, \n",
    "                          GeoJSONDataSource, HoverTool,\n",
    "                          LinearColorMapper, Slider)\n",
    "from bokeh.layouts import column, row, widgetbox\n",
    "from bokeh.palettes import brewer\n",
    "from bokeh.plotting import figure\n",
    "from bokeh.layouts import column, row\n",
    "from matplotlib import cm\n",
    "from bokeh.palettes import RdPu"
   ]
  },
  {
   "cell_type": "markdown",
   "metadata": {},
   "source": [
    "# Bokeh Tab 1: Main Geoplot"
   ]
  },
  {
   "cell_type": "markdown",
   "metadata": {},
   "source": [
    "## Filtering and merging data"
   ]
  },
  {
   "cell_type": "code",
   "execution_count": 2,
   "metadata": {},
   "outputs": [],
   "source": [
    "def process_data():\n",
    "\n",
    "        #__Importing geojson files\n",
    "    # Importing the Neighbourhood boundaries data\n",
    "    dr = os.getcwd()\n",
    "    fdr = ''\n",
    "    in_f = 'data/neighbourhoods.geojson'\n",
    "    target = os.path.join(dr, in_f)\n",
    "    df_neighbourhoods = gp.read_file(target)\n",
    "\n",
    "    # Importing the Airbnb listings data with geopoints\n",
    "    dr = os.getcwd()\n",
    "    fdr = ''\n",
    "    in_f = 'data/listings.geojson'\n",
    "    target = os.path.join(dr, fdr, in_f)\n",
    "    df_airbnb = gp.read_file(target)\n",
    "\n",
    "    # Importing the Hotels data with geopoints\n",
    "    dr = os.getcwd()\n",
    "    fdr = ''\n",
    "    in_f = 'data/sorted_hotels.geojson'\n",
    "    target = os.path.join(dr, fdr, in_f)\n",
    "    df_hotels = gp.read_file(target)\n",
    "    \n",
    "    # Importing the Hotels data with geopoints\n",
    "    df_reviews = pd.read_csv(\"data/reviews.csv\")\n",
    "\n",
    "\n",
    "        # Encode the data so as they map onto the Web Mercator scale\n",
    "    df_neighbourhoods = df_neighbourhoods.to_crs(epsg=3857)\n",
    "    df_airbnb = df_airbnb.to_crs(epsg=3857)\n",
    "    df_hotels = df_hotels.to_crs(epsg=3857)\n",
    "\n",
    "        #remove neighbourhoods outside manhattan\n",
    "    df_neighbourhoods = df_neighbourhoods[df_neighbourhoods.neighbourhood_group == 'Manhattan']\n",
    "    df_airbnb = df_airbnb[df_airbnb.neighbourhood_group == 'Manhattan']\n",
    "\n",
    "        #____Number of  Airbnbs per Neighbourhood\n",
    "\n",
    "    # Merging reviews with neighbourhoods on Airbnb ID\n",
    "    df_man = df_airbnb.filter(['neighbourhood','id'], axis=1)\n",
    "    df_reviews_count = df_reviews.rename(columns={'listing_id': 'id'})\n",
    "    df_id = pd.merge(df_reviews_count, df_man, on='id')\n",
    "\n",
    "    # Extracting year from data\n",
    "    df_id['date'] = pd.to_datetime(df_id['date'])\n",
    "    df_id['year'] = df_id['date'].dt.year\n",
    "    df_id = df_id.drop('date', axis=1)\n",
    "\n",
    "    # Counting the number (amount) of airbnbs in each neighbourhood\n",
    "    df_id.loc[:, 'counter'] = 1\n",
    "    df_id = df_id.drop_duplicates(subset=None, keep='first', inplace=False)\n",
    "    df_id = df_id.drop('id', axis=1)\n",
    "    df_id = df_id.drop('counter', axis=1)\n",
    "\n",
    "    #groupby\n",
    "    df_id_1 = df_id.groupby(df_id.columns.tolist(),as_index=False).size().reset_index(name=\"amount\")\n",
    "\n",
    "\n",
    "    # merging yearly airbnbs with neighbourhoods\n",
    "    dtf = pd.merge(df_neighbourhoods, df_id_1, on='neighbourhood')\n",
    "    dtf = dtf.drop('neighbourhood_group', axis=1)\n",
    "\n",
    "    # setting line around patches of neightbourhoods\n",
    "    dtf.loc[:, 'line'] = 1\n",
    "\n",
    "        #____Finding First Review per Airbnb\n",
    "\n",
    "    # Creating new dataframe with first review of each airbnb\n",
    "    df_reviews = df_reviews.rename(columns={'listing_id': 'id'})\n",
    "    df_reviews['date'] = pd.to_datetime(df_reviews['date'])\n",
    "    df_reviews = pd.DataFrame(df_reviews.groupby('id')['date'].min()) #first review of each listing\n",
    "\n",
    "    # Creating new dataframe with first review data and location\n",
    "    airbnb = pd.merge(df_airbnb, df_reviews, on = 'id')\n",
    "    airbnb['year'] = airbnb['date'].dt.year\n",
    "    \n",
    "    return airbnb, df_hotels, dtf"
   ]
  },
  {
   "cell_type": "markdown",
   "metadata": {},
   "source": [
    "## Create first plot"
   ]
  },
  {
   "cell_type": "code",
   "execution_count": 3,
   "metadata": {},
   "outputs": [],
   "source": [
    "airbnb, df_hotels, dtf = process_data()\n",
    "\n",
    "\n",
    "#_________________________Get X and Y coordinates of Airbnbs______________________________\n",
    "\n",
    "    #create function to get x and y coordinates of airbnbs\n",
    "def getPointCoords(row, geom, coord_type):\n",
    "\n",
    "    if coord_type == 'x':\n",
    "        return row[geom].x\n",
    "    elif coord_type == 'y':\n",
    "        return row[geom].y\n",
    "\n",
    "airbnb['x'] = airbnb.apply(getPointCoords, geom='geometry', coord_type='x', axis=1)\n",
    "airbnb['y'] = airbnb.apply(getPointCoords, geom='geometry', coord_type='y', axis=1)\n",
    "    \n",
    "df_hotels['x'] = df_hotels.apply(getPointCoords, geom='geometry', coord_type='x', axis=1)\n",
    "df_hotels['y'] = df_hotels.apply(getPointCoords, geom='geometry', coord_type='y', axis=1)\n",
    "#_________________________________________________________________________________________\n",
    "\n",
    "\n",
    "\n",
    "#Create copied dataframe for airbnbs\n",
    "airbnb_df = airbnb.drop('geometry', axis = 1).copy()\n",
    "hotels_df = df_hotels.drop('geometry', axis = 1).copy()\n",
    "\n",
    "# Call column data source for hotels, airbnbs and the shape of manhattan\n",
    "neighbourhood_source = GeoJSONDataSource(geojson = dtf.to_json())\n",
    "airbnb_source = ColumnDataSource(airbnb_df)\n",
    "hotels_source = ColumnDataSource(hotels_df)\n",
    "\n",
    "\n",
    "# Create the necessary years, listing_type, avaibility, min_stay\n",
    "years = list(range(2009, 2019, 1))\n",
    "list_type = [\"All\", \"Entire place\", \"Room only\"]\n",
    "list_availability = [\"All\", \"Less than 100 days\", \"More than 100 days\"]\n",
    "list_min_stay = [\"All\", \"Less than 30 days\", \"Molre than 30 days\"]\n",
    "\n",
    "\n",
    "\n",
    "\n",
    "#___________________________COLOUR MAP______________________________\n",
    "# bg_colour = '#000000'\n",
    "\n",
    "# Define color palettes\n",
    "palette = brewer['GnBu'][8]\n",
    "palette = palette[::-1] # reverse order of colors so higher values have darker colors\n",
    "\n",
    "# Instantiate LinearColorMapper that linearly maps numbers in a range, into a sequence of colors.\n",
    "color_mapper = LinearColorMapper(palette = palette, low = -150, high = max(dtf[\"amount\"]))\n",
    "\n",
    "# Define custom tick labels for color bar.\n",
    "tick_labels = {'200':'200','400':'400','700':'700','1000':'1000','1200':'1200', '1400': '1400', '1600':'1600'}\n",
    "\n",
    "# Create color bar.\n",
    "color_bar = ColorBar(color_mapper = color_mapper, \n",
    "                     label_standoff = 8,\n",
    "                     width = 500, height = 20,\n",
    "                     border_line_color = None,\n",
    "#                      background_fill_color = bg_colour,\n",
    "                     location = (0,0), \n",
    "                     orientation = 'horizontal',\n",
    "                     major_label_overrides = tick_labels)\n",
    "#make alpha 0 or bg colour to match\n",
    "#__________________________________________________________________________________\n",
    "\n",
    "\n",
    "\n",
    "\n",
    "\n",
    "\n",
    "\n",
    "\n",
    "\n",
    "#_______________________________Create figure object_______________________________\n",
    "p = figure(title = 'Airbnb Neighbourhood Prices', \n",
    "           plot_height = 600, plot_width = 950, \n",
    "           toolbar_location = 'above',\n",
    "           tools = 'pan, wheel_zoom, reset')\n",
    "p.xgrid.grid_line_color = None\n",
    "p.ygrid.grid_line_color = None\n",
    "# p.background_fill_color = bg_colour\n",
    "# p.border_fill_color = bg_colour\n",
    "\n",
    "# Set the label on the top left corner to indicate the current year the data is presenting\n",
    "label = Label(text = 'slider.value', text_font_size='60pt', text_color='#8a8a8a')\n",
    "p.add_layout(label)\n",
    "\n",
    "#__________________________________________________________________________________\n",
    "\n",
    "\n",
    "\n",
    "#_______________________________Create Slider_______________________________\n",
    "\n",
    "\n",
    "# Make a slider object to toggle the year shown\n",
    "slider = Slider(start = 2009, end = 2019, \n",
    "                value = 2009, step = 1, title = 'year')\n",
    "\n",
    "# This callback triggers the filter when the slider changes\n",
    "callback1 = CustomJS(args = dict(source=neighbourhood_source), \n",
    "                    code = \"\"\"source.change.emit();\"\"\")\n",
    "\n",
    "slider.js_on_change('value', callback1)\n",
    "\n",
    "# This callback triggers the filter when the slider changes\n",
    "callback2 = CustomJS(args = dict(source=airbnb_source), \n",
    "                    code = \"\"\"source.change.emit();\"\"\")\n",
    "\n",
    "slider.js_on_change('value', callback2)\n",
    "\n",
    "\n",
    "# Creates custom filter that selects the rows of the year based on the value in the slider\n",
    "custom_filter_1 = CustomJSFilter(args = dict(slider = slider, \n",
    "                                           source = neighbourhood_source), \n",
    "                               code = '''\n",
    "var indices = [];\n",
    "for (var i = 0; i < source.get_length(); i++){\n",
    " if (source.data['year'][i] == slider.value){\n",
    " indices.push(true);\n",
    " } else {\n",
    " indices.push(false);\n",
    " }\n",
    "}\n",
    "return indices;\n",
    "''')\n",
    "\n",
    "\n",
    "# Creates custom filter that selects the rows of the year based on the value in the slider\n",
    "custom_filter_2 = CustomJSFilter(args = dict(slider = slider, \n",
    "                                           source = airbnb_source), \n",
    "                               code = '''\n",
    "var indices = [];\n",
    "for (var i = 0; i < source.get_length(); i++){\n",
    " if (source.data['year'][i] == slider.value){\n",
    " indices.push(true);\n",
    " } else {\n",
    " indices.push(false);\n",
    " }\n",
    "}\n",
    "return indices;\n",
    "''')\n",
    "\n",
    "# Uses custom_filter to determine which set of airbnbs are visible\n",
    "view1 = CDSView(source = neighbourhood_source, filters = [custom_filter_1])\n",
    "view2 = CDSView(source = airbnb_source, filters = [custom_filter_2])\n",
    "\n",
    "p1.circle('x', 'y', source = airbnb_source, color = 'blue', size=2, \n",
    "         alpha = 1, view = view2)\n",
    "\n",
    "\n",
    "# Add patch renderer to figure.\n",
    "man = p.patches('xs','ys', source = neighbourhood_source, line_color = {'field' :'line'}, \n",
    "                line_alpha = 1,\n",
    "                fill_color = {'field' :'amount', 'transform' : color_mapper},\n",
    "                fill_alpha = 0.5, view = view1)\n",
    "\n",
    "man1 = p.patches('xs','ys', source = neighbourhood_source, line_color = 'gray', \n",
    "                line_alpha = 1, fill_color=None)\n",
    "\n",
    "hotels = p.circle('x', 'y', source = hotels_source, color = 'red', \n",
    "                  size = 5, alpha = 0.5)\n",
    "\n",
    "# Create hover tool for neighbourhood\n",
    "p1.add_tools(HoverTool(renderers = [hotels],\n",
    "                      tooltips = [('hotel','@doc_id')]))\n",
    "\n",
    "p1.add_tools(HoverTool(renderers = [man],\n",
    "                      tooltips = [('neighbourhood','@neighbourhood'),\n",
    "                               ('Number of Airbnbs','@amount')]))\n",
    "\n",
    "# Specify layout\n",
    "p1.add_layout(color_bar, 'below')\n",
    "p1.axis.visible = False\n",
    "\n",
    "# Make a column layout of widgetbox(slider) and plot, and add it to the current document\n",
    "layout = column(p, widgetbox(slider))\n",
    "\n",
    "#show(layout)\n",
    "\n",
    "#output_file('test.html')\n",
    "#save(layout)"
   ]
  },
  {
   "cell_type": "markdown",
   "metadata": {},
   "source": [
    "# Bokeh Tab 2: Density of Airbnbs around Hotels in Most Affected Neighbourhoods"
   ]
  },
  {
   "cell_type": "code",
   "execution_count": 53,
   "metadata": {},
   "outputs": [],
   "source": [
    "import math as m "
   ]
  },
  {
   "cell_type": "code",
   "execution_count": 77,
   "metadata": {},
   "outputs": [],
   "source": [
    "#import data\n",
    "df_airbnb = airbnb_df\n",
    "airbnb_hotels = pd.read_csv('data/hotels_airbnb.csv')\n",
    "hotels = pd.read_csv(\"data/Hotel Addressess.csv\")\n",
    "affected_hotels = pd.read_csv(\"data/affected_hotels.csv\")"
   ]
  },
  {
   "cell_type": "markdown",
   "metadata": {},
   "source": [
    "## Affected Hotels"
   ]
  },
  {
   "cell_type": "code",
   "execution_count": 78,
   "metadata": {},
   "outputs": [],
   "source": [
    "#top rated hotel per neighbourhood\n",
    "affected_cords = hotels[(hotels.doc_id == 'the plaza') | (hotels.doc_id == 'millenium hilton') \n",
    "                        | (hotels.doc_id == '414 hotel') | (hotels.doc_id == 'the standard new york')\n",
    "                        | (hotels.doc_id == 'the carlyle a rosewood hotel')\n",
    "                        | (hotels.doc_id == 'duane street hotel') | (hotels.doc_id == 'hotel beacon')\n",
    "                        | (hotels.doc_id == 'the sylvan guest house') \n",
    "                        | (hotels.doc_id == 'the bowery hotel') | (hotels.doc_id == 'astor on the park')\n",
    "                        | (hotels.doc_id == 'hotel deauville')\n",
    "                       ]"
   ]
  },
  {
   "cell_type": "code",
   "execution_count": 79,
   "metadata": {},
   "outputs": [],
   "source": [
    "#merge to get long, lat, xcoords and ycoords in same dataframe\n",
    "affected = pd.merge(affected_cords, affected_hotels, on = 'doc_id')"
   ]
  },
  {
   "cell_type": "code",
   "execution_count": 80,
   "metadata": {},
   "outputs": [],
   "source": [
    "#assigning each hotel to its respective row\n",
    "plaza_hotel = affected[affected.doc_id == 'the plaza']\n",
    "mill_hilton = affected[(affected.doc_id == 'millenium hilton')]\n",
    "hotel_414 = affected[(affected.doc_id == '414 hotel')]\n",
    "the_standard = affected[(affected.doc_id == 'the standard new york')]\n",
    "the_carlyle = affected[(affected.doc_id == 'the carlyle a rosewood hotel')]\n",
    "duane_street = affected[(affected.doc_id == 'duane street hotel')]\n",
    "hotel_beacon = affected[(affected.doc_id == 'hotel beacon')]\n",
    "the_sylvan = affected[(affected.doc_id == 'the sylvan guest house')]\n",
    "the_bowery = affected[(affected.doc_id == 'the bowery hotel')]\n",
    "astor_park = affected[(affected.doc_id == 'astor on the park')]\n",
    "hotel_deauville = affected[(affected.doc_id ==  'hotel deauville')]"
   ]
  },
  {
   "cell_type": "markdown",
   "metadata": {},
   "source": [
    "## Plaza Hotel"
   ]
  },
  {
   "cell_type": "code",
   "execution_count": 82,
   "metadata": {},
   "outputs": [],
   "source": [
    "# transform list intp data frame\n",
    "def distance():\n",
    "    data = pd.read_csv(\"data/hotels_airbnb.csv\", usecols = ['host_id', 'latitude', 'longitude'])\n",
    "    lat = data['latitude']\n",
    "    lon = data['longitude']\n",
    "    dist = []\n",
    "    radius = 6371\n",
    "    \n",
    "    for i in range(len(lat)):\n",
    "        phi1 = m.radians(plaza_hotel['lat'])\n",
    "        phi2 = m.radians(lat[i])\n",
    "        lambda1 = m.radians(plaza_hotel['long'])\n",
    "        lambda2 = m.radians(lon[i])\n",
    "        dlat = phi2 - phi1\n",
    "        dlon = lambda2 -lambda1\n",
    "        a = m.sqrt(m.sin(dlat/2)**2+m.cos(phi1)*m.cos(phi2)*m.sin(dlon/2)**2) #use of Haversine formula\n",
    "        d = 2*radius*np.arcsin(a)\n",
    "        dist.append(d)\n",
    "    return dist\n",
    "\n",
    "distance()\n",
    "distance = distance()\n",
    "airbnb_hotels['distance'] = distance"
   ]
  },
  {
   "cell_type": "code",
   "execution_count": 83,
   "metadata": {
    "scrolled": true
   },
   "outputs": [
    {
     "data": {
      "text/plain": [
       "(32, 36)"
      ]
     },
     "execution_count": 83,
     "metadata": {},
     "output_type": "execute_result"
    }
   ],
   "source": [
    "plaza = airbnb_hotels[airbnb_hotels.distance < 0.5 ].copy()\n",
    "plaza = pd.merge(plaza, df_airbnb, how = 'left', left_on = 'id', right_on = 'id')"
   ]
  },
  {
   "cell_type": "markdown",
   "metadata": {},
   "source": [
    "## For Mill Hilton"
   ]
  },
  {
   "cell_type": "code",
   "execution_count": 84,
   "metadata": {},
   "outputs": [],
   "source": [
    "# transform list intp data frame\n",
    "def distance():\n",
    "    data = pd.read_csv(\"data/hotels_airbnb.csv\", usecols = ['host_id', 'latitude', 'longitude'])\n",
    "    lat = data['latitude']\n",
    "    lon = data['longitude']\n",
    "    dist = []\n",
    "    radius = 6371\n",
    "    \n",
    "    for i in range(len(lat)):\n",
    "        phi1 = m.radians(mill_hilton['lat'])\n",
    "        phi2 = m.radians(lat[i])\n",
    "        lambda1 = m.radians(mill_hilton['long'])\n",
    "        lambda2 = m.radians(lon[i])\n",
    "        dlat = phi2 - phi1\n",
    "        dlon = lambda2 -lambda1\n",
    "        a = m.sqrt(m.sin(dlat/2)**2+m.cos(phi1)*m.cos(phi2)*m.sin(dlon/2)**2) #use of Haversine formula\n",
    "        d = 2*radius*np.arcsin(a)\n",
    "        dist.append(d)\n",
    "    return dist\n",
    "\n",
    "distance()\n",
    "distance = distance()\n",
    "airbnb_hotels['distance'] = distance"
   ]
  },
  {
   "cell_type": "code",
   "execution_count": 85,
   "metadata": {},
   "outputs": [
    {
     "data": {
      "text/plain": [
       "(133, 36)"
      ]
     },
     "execution_count": 85,
     "metadata": {},
     "output_type": "execute_result"
    }
   ],
   "source": [
    "hilton = airbnb_hotels[airbnb_hotels.distance < 0.5 ].copy()\n",
    "hilton = pd.merge(hilton, df_airbnb, how = 'left', left_on = 'id', right_on = 'id')"
   ]
  },
  {
   "cell_type": "markdown",
   "metadata": {},
   "source": [
    "## For 414 Hotel "
   ]
  },
  {
   "cell_type": "code",
   "execution_count": 87,
   "metadata": {},
   "outputs": [],
   "source": [
    "# transform list intp data frame\n",
    "def distance():\n",
    "    data = pd.read_csv(\"data/hotels_airbnb.csv\", usecols = ['host_id', 'latitude', 'longitude'])\n",
    "    lat = data['latitude']\n",
    "    lon = data['longitude']\n",
    "    dist = []\n",
    "    radius = 6371\n",
    "    \n",
    "    for i in range(len(lat)):\n",
    "        phi1 = m.radians(hotel_414['lat'])\n",
    "        phi2 = m.radians(lat[i])\n",
    "        lambda1 = m.radians(hotel_414['long'])\n",
    "        lambda2 = m.radians(lon[i])\n",
    "        dlat = phi2 - phi1\n",
    "        dlon = lambda2 -lambda1\n",
    "        a = m.sqrt(m.sin(dlat/2)**2+m.cos(phi1)*m.cos(phi2)*m.sin(dlon/2)**2) #use of Haversine formula\n",
    "        d = 2*radius*np.arcsin(a)\n",
    "        dist.append(d)\n",
    "    return dist\n",
    "\n",
    "distance()\n",
    "distance = distance()\n",
    "airbnb_hotels['distance'] = distance"
   ]
  },
  {
   "cell_type": "code",
   "execution_count": 88,
   "metadata": {},
   "outputs": [],
   "source": [
    "hot414 = airbnb_hotels[airbnb_hotels.distance < 0.5 ].copy()\n",
    "hot414 = pd.merge(hot414, df_airbnb, how = 'left', left_on = 'id', right_on = 'id')"
   ]
  },
  {
   "cell_type": "markdown",
   "metadata": {},
   "source": [
    "## For the Standard"
   ]
  },
  {
   "cell_type": "code",
   "execution_count": 90,
   "metadata": {},
   "outputs": [],
   "source": [
    "# transform list intp data frame\n",
    "def distance():\n",
    "    data = pd.read_csv(\"data/hotels_airbnb.csv\", usecols = ['host_id', 'latitude', 'longitude'])\n",
    "    lat = data['latitude']\n",
    "    lon = data['longitude']\n",
    "    dist = []\n",
    "    radius = 6371\n",
    "    \n",
    "    for i in range(len(lat)):\n",
    "        phi1 = m.radians(the_standard['lat'])\n",
    "        phi2 = m.radians(lat[i])\n",
    "        lambda1 = m.radians(the_standard['long'])\n",
    "        lambda2 = m.radians(lon[i])\n",
    "        dlat = phi2 - phi1\n",
    "        dlon = lambda2 -lambda1\n",
    "        a = m.sqrt(m.sin(dlat/2)**2+m.cos(phi1)*m.cos(phi2)*m.sin(dlon/2)**2) #use of Haversine formula\n",
    "        d = 2*radius*np.arcsin(a)\n",
    "        dist.append(d)\n",
    "    return dist\n",
    "\n",
    "distance()\n",
    "distance = distance()\n",
    "airbnb_hotels['distance'] = distance"
   ]
  },
  {
   "cell_type": "code",
   "execution_count": 91,
   "metadata": {},
   "outputs": [],
   "source": [
    "standard = airbnb_hotels[airbnb_hotels.distance < 0.5 ].copy()\n",
    "standard = pd.merge(standard, df_airbnb, how = 'left', left_on = 'id', right_on = 'id')"
   ]
  },
  {
   "cell_type": "markdown",
   "metadata": {},
   "source": [
    "## For the Carlyle"
   ]
  },
  {
   "cell_type": "code",
   "execution_count": 92,
   "metadata": {},
   "outputs": [],
   "source": [
    "# transform list intp data frame\n",
    "def distance():\n",
    "    data = pd.read_csv(\"data/hotels_airbnb.csv\", usecols = ['host_id', 'latitude', 'longitude'])\n",
    "    lat = data['latitude']\n",
    "    lon = data['longitude']\n",
    "    dist = []\n",
    "    radius = 6371\n",
    "    \n",
    "    for i in range(len(lat)):\n",
    "        phi1 = m.radians(the_carlyle['lat'])\n",
    "        phi2 = m.radians(lat[i])\n",
    "        lambda1 = m.radians(the_carlyle['long'])\n",
    "        lambda2 = m.radians(lon[i])\n",
    "        dlat = phi2 - phi1\n",
    "        dlon = lambda2 -lambda1\n",
    "        a = m.sqrt(m.sin(dlat/2)**2+m.cos(phi1)*m.cos(phi2)*m.sin(dlon/2)**2) #use of Haversine formula\n",
    "        d = 2*radius*np.arcsin(a)\n",
    "        dist.append(d)\n",
    "    return dist\n",
    "\n",
    "distance()\n",
    "distance = distance()\n",
    "airbnb_hotels['distance'] = distance"
   ]
  },
  {
   "cell_type": "code",
   "execution_count": 93,
   "metadata": {},
   "outputs": [],
   "source": [
    "carlyle = airbnb_hotels[airbnb_hotels.distance < 0.5 ].copy()\n",
    "carlyle = pd.merge(carlyle, df_airbnb, how = 'left', left_on = 'id', right_on = 'id')"
   ]
  },
  {
   "cell_type": "markdown",
   "metadata": {},
   "source": [
    "## For Duane Street"
   ]
  },
  {
   "cell_type": "code",
   "execution_count": 94,
   "metadata": {},
   "outputs": [],
   "source": [
    "# transform list intp data frame\n",
    "def distance():\n",
    "    data = pd.read_csv(\"data/hotels_airbnb.csv\", usecols = ['host_id', 'latitude', 'longitude'])\n",
    "    lat = data['latitude']\n",
    "    lon = data['longitude']\n",
    "    dist = []\n",
    "    radius = 6371\n",
    "    \n",
    "    for i in range(len(lat)):\n",
    "        phi1 = m.radians(duane_street['lat'])\n",
    "        phi2 = m.radians(lat[i])\n",
    "        lambda1 = m.radians(duane_street['long'])\n",
    "        lambda2 = m.radians(lon[i])\n",
    "        dlat = phi2 - phi1\n",
    "        dlon = lambda2 -lambda1\n",
    "        a = m.sqrt(m.sin(dlat/2)**2+m.cos(phi1)*m.cos(phi2)*m.sin(dlon/2)**2) #use of Haversine formula\n",
    "        d = 2*radius*np.arcsin(a)\n",
    "        dist.append(d)\n",
    "    return dist\n",
    "\n",
    "distance()\n",
    "distance = distance()\n",
    "airbnb_hotels['distance'] = distance"
   ]
  },
  {
   "cell_type": "code",
   "execution_count": 95,
   "metadata": {},
   "outputs": [],
   "source": [
    "duane = airbnb_hotels[airbnb_hotels.distance < 0.5 ].copy()\n",
    "duane = pd.merge(duane, df_airbnb, how = 'left', left_on = 'id', right_on = 'id')"
   ]
  },
  {
   "cell_type": "markdown",
   "metadata": {},
   "source": [
    "## For Hotel Beacon"
   ]
  },
  {
   "cell_type": "code",
   "execution_count": 97,
   "metadata": {},
   "outputs": [],
   "source": [
    "# transform list intp data frame\n",
    "def distance():\n",
    "    data = pd.read_csv(\"data/hotels_airbnb.csv\", usecols = ['host_id', 'latitude', 'longitude'])\n",
    "    lat = data['latitude']\n",
    "    lon = data['longitude']\n",
    "    dist = []\n",
    "    radius = 6371\n",
    "    \n",
    "    for i in range(len(lat)):\n",
    "        phi1 = m.radians(hotel_beacon['lat'])\n",
    "        phi2 = m.radians(lat[i])\n",
    "        lambda1 = m.radians(hotel_beacon['long'])\n",
    "        lambda2 = m.radians(lon[i])\n",
    "        dlat = phi2 - phi1\n",
    "        dlon = lambda2 -lambda1\n",
    "        a = m.sqrt(m.sin(dlat/2)**2+m.cos(phi1)*m.cos(phi2)*m.sin(dlon/2)**2) #use of Haversine formula\n",
    "        d = 2*radius*np.arcsin(a)\n",
    "        dist.append(d)\n",
    "    return dist\n",
    "\n",
    "distance()\n",
    "distance = distance()\n",
    "airbnb_hotels['distance'] = distance"
   ]
  },
  {
   "cell_type": "code",
   "execution_count": 98,
   "metadata": {},
   "outputs": [],
   "source": [
    "beacon = airbnb_hotels[airbnb_hotels.distance < 0.5 ].copy()\n",
    "beacon = pd.merge(beacon, df_airbnb, how = 'left', left_on = 'id', right_on = 'id')"
   ]
  },
  {
   "cell_type": "markdown",
   "metadata": {},
   "source": [
    "## For the Sylvian Guest House"
   ]
  },
  {
   "cell_type": "code",
   "execution_count": 99,
   "metadata": {},
   "outputs": [],
   "source": [
    "# transform list intp data frame\n",
    "def distance():\n",
    "    data = pd.read_csv(\"data/hotels_airbnb.csv\", usecols = ['host_id', 'latitude', 'longitude'])\n",
    "    lat = data['latitude']\n",
    "    lon = data['longitude']\n",
    "    dist = []\n",
    "    radius = 6371\n",
    "    \n",
    "    for i in range(len(lat)):\n",
    "        phi1 = m.radians(the_sylvan['lat'])\n",
    "        phi2 = m.radians(lat[i])\n",
    "        lambda1 = m.radians(the_sylvan['long'])\n",
    "        lambda2 = m.radians(lon[i])\n",
    "        dlat = phi2 - phi1\n",
    "        dlon = lambda2 -lambda1\n",
    "        a = m.sqrt(m.sin(dlat/2)**2+m.cos(phi1)*m.cos(phi2)*m.sin(dlon/2)**2) #use of Haversine formula\n",
    "        d = 2*radius*np.arcsin(a)\n",
    "        dist.append(d)\n",
    "    return dist\n",
    "\n",
    "distance()\n",
    "distance = distance()\n",
    "airbnb_hotels['distance'] = distance"
   ]
  },
  {
   "cell_type": "code",
   "execution_count": 100,
   "metadata": {},
   "outputs": [],
   "source": [
    "sylvan = airbnb_hotels[airbnb_hotels.distance < 0.5 ].copy()\n",
    "sylvan = pd.merge(sylvan, df_airbnb, how = 'left', left_on = 'id', right_on = 'id')"
   ]
  },
  {
   "cell_type": "markdown",
   "metadata": {},
   "source": [
    "## For the Browery Hotel"
   ]
  },
  {
   "cell_type": "code",
   "execution_count": 101,
   "metadata": {},
   "outputs": [],
   "source": [
    "# transform list intp data frame\n",
    "def distance():\n",
    "    data = pd.read_csv(\"data/hotels_airbnb.csv\", usecols = ['host_id', 'latitude', 'longitude'])\n",
    "    lat = data['latitude']\n",
    "    lon = data['longitude']\n",
    "    dist = []\n",
    "    radius = 6371\n",
    "    \n",
    "    for i in range(len(lat)):\n",
    "        phi1 = m.radians(the_bowery['lat'])\n",
    "        phi2 = m.radians(lat[i])\n",
    "        lambda1 = m.radians(the_bowery['long'])\n",
    "        lambda2 = m.radians(lon[i])\n",
    "        dlat = phi2 - phi1\n",
    "        dlon = lambda2 -lambda1\n",
    "        a = m.sqrt(m.sin(dlat/2)**2+m.cos(phi1)*m.cos(phi2)*m.sin(dlon/2)**2) #use of Haversine formula\n",
    "        d = 2*radius*np.arcsin(a)\n",
    "        dist.append(d)\n",
    "    return dist\n",
    "\n",
    "distance()\n",
    "distance = distance()\n",
    "airbnb_hotels['distance'] = distance"
   ]
  },
  {
   "cell_type": "code",
   "execution_count": 102,
   "metadata": {},
   "outputs": [],
   "source": [
    "bowery = airbnb_hotels[airbnb_hotels.distance < 0.5 ].copy()\n",
    "bowery = pd.merge(bowery, df_airbnb, how = 'left', left_on = 'id', right_on = 'id')"
   ]
  },
  {
   "cell_type": "markdown",
   "metadata": {},
   "source": [
    "## For The Astor on the Park"
   ]
  },
  {
   "cell_type": "code",
   "execution_count": 103,
   "metadata": {},
   "outputs": [],
   "source": [
    "# transform list intp data frame\n",
    "def distance():\n",
    "    data = pd.read_csv(\"data/hotels_airbnb.csv\", usecols = ['host_id', 'latitude', 'longitude'])\n",
    "    lat = data['latitude']\n",
    "    lon = data['longitude']\n",
    "    dist = []\n",
    "    radius = 6371\n",
    "    \n",
    "    for i in range(len(lat)):\n",
    "        phi1 = m.radians(astor_park['lat'])\n",
    "        phi2 = m.radians(lat[i])\n",
    "        lambda1 = m.radians(astor_park['long'])\n",
    "        lambda2 = m.radians(lon[i])\n",
    "        dlat = phi2 - phi1\n",
    "        dlon = lambda2 -lambda1\n",
    "        a = m.sqrt(m.sin(dlat/2)**2+m.cos(phi1)*m.cos(phi2)*m.sin(dlon/2)**2) #use of Haversine formula\n",
    "        d = 2*radius*np.arcsin(a)\n",
    "        dist.append(d)\n",
    "    return dist\n",
    "\n",
    "distance()\n",
    "distance = distance()\n",
    "airbnb_hotels['distance'] = distance"
   ]
  },
  {
   "cell_type": "code",
   "execution_count": 104,
   "metadata": {},
   "outputs": [],
   "source": [
    "astor = airbnb_hotels[airbnb_hotels.distance < 0.5 ].copy()\n",
    "astor = pd.merge(astor, df_airbnb, how = 'left', left_on = 'id', right_on = 'id')"
   ]
  },
  {
   "cell_type": "markdown",
   "metadata": {},
   "source": [
    "## For Hotel Deauville"
   ]
  },
  {
   "cell_type": "code",
   "execution_count": 105,
   "metadata": {},
   "outputs": [],
   "source": [
    "# transform list intp data frame\n",
    "def distance():\n",
    "    data = pd.read_csv(\"data/hotels_airbnb.csv\", usecols = ['host_id', 'latitude', 'longitude'])\n",
    "    lat = data['latitude']\n",
    "    lon = data['longitude']\n",
    "    dist = []\n",
    "    radius = 6371\n",
    "    \n",
    "    for i in range(len(lat)):\n",
    "        phi1 = m.radians(hotel_deauville['lat'])\n",
    "        phi2 = m.radians(lat[i])\n",
    "        lambda1 = m.radians(hotel_deauville['long'])\n",
    "        lambda2 = m.radians(lon[i])\n",
    "        dlat = phi2 - phi1\n",
    "        dlon = lambda2 -lambda1\n",
    "        a = m.sqrt(m.sin(dlat/2)**2+m.cos(phi1)*m.cos(phi2)*m.sin(dlon/2)**2) #use of Haversine formula\n",
    "        d = 2*radius*np.arcsin(a)\n",
    "        dist.append(d)\n",
    "    return dist\n",
    "\n",
    "distance()\n",
    "distance = distance()\n",
    "airbnb_hotels['distance'] = distance"
   ]
  },
  {
   "cell_type": "code",
   "execution_count": 106,
   "metadata": {},
   "outputs": [],
   "source": [
    "deauville = airbnb_hotels[airbnb_hotels.distance < 0.5 ].copy()\n",
    "deauville = pd.merge(deauville, df_airbnb, how = 'left', left_on = 'id', right_on = 'id')"
   ]
  },
  {
   "cell_type": "markdown",
   "metadata": {},
   "source": [
    "## Legend"
   ]
  },
  {
   "cell_type": "code",
   "execution_count": 107,
   "metadata": {},
   "outputs": [
    {
     "name": "stderr",
     "output_type": "stream",
     "text": [
      "BokehDeprecationWarning: CARTODBPOSITRON_RETINA was deprecated in Bokeh 1.1.0 and will be removed, use get_provider(Vendors.CARTODBPOSITRON_RETINA) instead.\n"
     ]
    }
   ],
   "source": [
    "from bokeh.plotting import figure, show, output_notebook\n",
    "from bokeh.tile_providers import CARTODBPOSITRON_RETINA\n",
    "from bokeh.models import HoverTool, Legend, ColumnDataSource"
   ]
  },
  {
   "cell_type": "code",
   "execution_count": 115,
   "metadata": {},
   "outputs": [],
   "source": [
    "affected_cdf = ColumnDataSource(affected)\n",
    "#legend = (\"The Plaza\", hotels_plot)\n",
    "\n",
    "# Format the tooltip\n",
    "tooltips = [('Hotel','@doc_id'),\n",
    "            ('Neighbourhood', '@neighbourhood'),\n",
    "            ('Address', '@hotel_url_x'),\n",
    "            ('Airbnbs under 500m', '@no_airbnbs')   \n",
    "           ]"
   ]
  },
  {
   "cell_type": "code",
   "execution_count": 119,
   "metadata": {},
   "outputs": [],
   "source": [
    "\n",
    "\n",
    "\n",
    "p1 = figure(plot_height = 700, plot_width = 800, \n",
    "           x_range=(-8250000,-8220000), y_range=(4975000,4982000),\n",
    "           x_axis_type=\"mercator\", y_axis_type=\"mercator\")\n",
    "p1.add_tile(CARTODBPOSITRON_RETINA)\n",
    "\n",
    "\n",
    "\n",
    "# Add square representing each player\n",
    "p1.square(x='x',y='y', source=affected_cdf,\n",
    "         color='royalblue', selection_color='deepskyblue',\n",
    "         nonselection_color='lightgray', nonselection_alpha=0.3)\n",
    "\n",
    "# Configure a renderer to be used upon hover\n",
    "hover_glyph = p1.circle(x='x', y='y', source=affected_cdf,\n",
    "                         size=50, alpha=0,\n",
    "                         hover_fill_color='black', hover_alpha=0.5)\n",
    "\n",
    "\n",
    "\n",
    "plaza_plot = p1.circle(x = plaza['x'], y = plaza['y'], color = 'orange', alpha = 0.5)\n",
    "hilton_plot = p1.circle(x = hilton['x'], y = hilton['y'], color = 'orange', alpha = 0.3)\n",
    "hotel414_plot = p1.circle(x = hot414['x'], y = hot414['y'], color = 'orange', alpha = 0.3)\n",
    "standard_plot = p1.circle(x = standard['x'], y = standard['y'], color = 'orange', alpha = 0.3)\n",
    "carlyle_plot = p1.circle(x = carlyle['x'], y = carlyle['y'], color = 'orange', alpha = 0.3)\n",
    "duane_plot = p1.circle(x = duane['x'], y = duane['y'], color = 'orange', alpha = 0.3)\n",
    "beacon_plot = p1.circle(x = beacon['x'], y = beacon['y'], color = 'orange', alpha = 0.3)\n",
    "sylvan_plot = p1.circle(x = sylvan['x'], y = sylvan['y'], color = 'orange', alpha = 0.3)\n",
    "bowery_plot = p1.circle(x = bowery['x'], y = bowery['y'], color = 'orange', alpha = 0.3)\n",
    "astor_plot = p1.circle(x = astor['x'], y = astor['y'], color = 'orange', alpha = 0.3)\n",
    "deauville_plot = p1.circle(x = deauville['x'], y = deauville['y'], color = 'orange', alpha = 0.3)\n",
    "\n",
    "\n",
    "# custom zoom function\n",
    "# click hotel open hml\n",
    "# add website link and photo to hover look at car horse power example\n",
    "\n",
    "\n",
    "\n",
    "p1.add_tools(HoverTool(tooltips=tooltips, renderers=[hover_glyph]))\n",
    "#p.legend.location = \"top_left\"\n",
    "#p.legend.click_policy=\"hide\"\n",
    "p1.axis.visible = False\n",
    "# output_notebook()\n",
    "#show(p1)\n",
    "\n",
    "output_file('test1.html')\n",
    "save(p1)"
   ]
  },
  {
   "cell_type": "code",
   "execution_count": null,
   "metadata": {},
   "outputs": [],
   "source": []
  }
 ],
 "metadata": {
  "kernelspec": {
   "display_name": "Python 3",
   "language": "python",
   "name": "python3"
  },
  "language_info": {
   "codemirror_mode": {
    "name": "ipython",
    "version": 3
   },
   "file_extension": ".py",
   "mimetype": "text/x-python",
   "name": "python",
   "nbconvert_exporter": "python",
   "pygments_lexer": "ipython3",
   "version": "3.7.5"
  }
 },
 "nbformat": 4,
 "nbformat_minor": 2
}
