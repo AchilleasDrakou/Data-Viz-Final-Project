{
 "cells": [
  {
   "cell_type": "code",
   "execution_count": 1,
   "metadata": {
    "ExecuteTime": {
     "end_time": "2019-12-18T12:13:16.550023Z",
     "start_time": "2019-12-18T12:13:16.537449Z"
    }
   },
   "outputs": [],
   "source": [
    "# Import libraries\n",
    "import os\n",
    "import numpy as np\n",
    "import pandas as pd\n",
    "import math\n",
    "\n",
    "import geopandas as gp\n",
    "import json\n",
    "\n",
    "# import holoviews as hv\n",
    "# import holoviews.plotting.bokeh\n",
    "\n",
    "from bokeh.io import output_notebook, output_file, push_notebook, show\n",
    "from bokeh.plotting import figure, show\n",
    "from bokeh.models import GeoJSONDataSource, LinearColorMapper, ColorBar, NumeralTickFormatter, Div\n",
    "from bokeh.palettes import brewer\n",
    "\n",
    "from bokeh.io.doc import curdoc\n",
    "from bokeh.models import Slider, HoverTool, Select, BoxSelectTool\n",
    "from bokeh.layouts import widgetbox, row, column\n",
    "from bokeh.client import push_session, pull_session\n",
    "from bokeh.application import Application\n",
    "from bokeh.application.handlers import FunctionHandler\n",
    "\n",
    "#output_notebook()"
   ]
  },
  {
   "cell_type": "markdown",
   "metadata": {},
   "source": [
    "# Import Data"
   ]
  },
  {
   "cell_type": "code",
   "execution_count": 7,
   "metadata": {
    "ExecuteTime": {
     "end_time": "2019-12-18T11:17:15.206349Z",
     "start_time": "2019-12-18T11:17:15.039085Z"
    }
   },
   "outputs": [],
   "source": [
    "# Importing the Neighbourhood boundaries data\n",
    "dr = os.getcwd()\n",
    "fdr = ''\n",
    "in_f = 'data/neighbourhoods.geojson'\n",
    "\n",
    "target = os.path.join(dr, in_f)\n",
    "\n",
    "df_neighbourhoods = gp.read_file(target)"
   ]
  },
  {
   "cell_type": "code",
   "execution_count": 8,
   "metadata": {
    "ExecuteTime": {
     "end_time": "2019-12-18T11:17:19.859808Z",
     "start_time": "2019-12-18T11:17:15.531599Z"
    }
   },
   "outputs": [],
   "source": [
    "# Importing the Airbnb listings data with geopoints\n",
    "dr = os.getcwd()\n",
    "fdr = ''\n",
    "in_f = 'data/listings.geojson'\n",
    "\n",
    "target = os.path.join(dr, fdr, in_f)\n",
    "\n",
    "df_airbnb = gp.read_file(target)"
   ]
  },
  {
   "cell_type": "code",
   "execution_count": 9,
   "metadata": {
    "ExecuteTime": {
     "end_time": "2019-12-18T11:17:20.659957Z",
     "start_time": "2019-12-18T11:17:20.623066Z"
    }
   },
   "outputs": [],
   "source": [
    "# Importing the Hotels data with geopoints\n",
    "dr = os.getcwd()\n",
    "fdr = ''\n",
    "in_f = 'data/sorted_hotels.geojson'\n",
    "\n",
    "target = os.path.join(dr, fdr, in_f)\n",
    "\n",
    "df_hotels = gp.read_file(target)"
   ]
  },
  {
   "cell_type": "markdown",
   "metadata": {},
   "source": [
    "# Check Coordinate Ref system"
   ]
  },
  {
   "cell_type": "code",
   "execution_count": 10,
   "metadata": {
    "ExecuteTime": {
     "end_time": "2019-12-18T11:17:23.216773Z",
     "start_time": "2019-12-18T11:17:21.197729Z"
    }
   },
   "outputs": [],
   "source": [
    "# encode the data so as they map onto the Web Mercator scale\n",
    "df_neighbourhoods = df_neighbourhoods.to_crs(epsg=3857)\n",
    "df_airbnb = df_airbnb.to_crs(epsg=3857)\n",
    "df_hotels = df_hotels.to_crs(epsg=3857)"
   ]
  },
  {
   "cell_type": "markdown",
   "metadata": {},
   "source": [
    "# Filtering and merging datasets"
   ]
  },
  {
   "cell_type": "code",
   "execution_count": 11,
   "metadata": {
    "ExecuteTime": {
     "end_time": "2019-12-18T11:17:23.763009Z",
     "start_time": "2019-12-18T11:17:23.751298Z"
    }
   },
   "outputs": [],
   "source": [
    "#remove neighbourhoods outside manhattan\n",
    "df_neighbourhoods = df_neighbourhoods[df_neighbourhoods.neighbourhood_group == 'Manhattan']"
   ]
  },
  {
   "cell_type": "code",
   "execution_count": 12,
   "metadata": {
    "ExecuteTime": {
     "end_time": "2019-12-18T11:17:24.321635Z",
     "start_time": "2019-12-18T11:17:24.292536Z"
    },
    "scrolled": false
   },
   "outputs": [
    {
     "data": {
      "text/html": [
       "<div>\n",
       "<style scoped>\n",
       "    .dataframe tbody tr th:only-of-type {\n",
       "        vertical-align: middle;\n",
       "    }\n",
       "\n",
       "    .dataframe tbody tr th {\n",
       "        vertical-align: top;\n",
       "    }\n",
       "\n",
       "    .dataframe thead th {\n",
       "        text-align: right;\n",
       "    }\n",
       "</style>\n",
       "<table border=\"1\" class=\"dataframe\">\n",
       "  <thead>\n",
       "    <tr style=\"text-align: right;\">\n",
       "      <th></th>\n",
       "      <th>neighbourhood</th>\n",
       "      <th>neighbourhood_group</th>\n",
       "      <th>geometry</th>\n",
       "    </tr>\n",
       "  </thead>\n",
       "  <tbody>\n",
       "    <tr>\n",
       "      <th>18</th>\n",
       "      <td>Battery Park City</td>\n",
       "      <td>Manhattan</td>\n",
       "      <td>MULTIPOLYGON (((-8239173.407 4970202.287, -823...</td>\n",
       "    </tr>\n",
       "    <tr>\n",
       "      <th>43</th>\n",
       "      <td>Chinatown</td>\n",
       "      <td>Manhattan</td>\n",
       "      <td>MULTIPOLYGON (((-8237641.317 4970831.912, -823...</td>\n",
       "    </tr>\n",
       "    <tr>\n",
       "      <th>52</th>\n",
       "      <td>Chelsea</td>\n",
       "      <td>Manhattan</td>\n",
       "      <td>MULTIPOLYGON (((-8236914.735 4975858.173, -823...</td>\n",
       "    </tr>\n",
       "    <tr>\n",
       "      <th>53</th>\n",
       "      <td>Civic Center</td>\n",
       "      <td>Manhattan</td>\n",
       "      <td>MULTIPOLYGON (((-8237419.012 4970060.124, -823...</td>\n",
       "    </tr>\n",
       "    <tr>\n",
       "      <th>80</th>\n",
       "      <td>East Harlem</td>\n",
       "      <td>Manhattan</td>\n",
       "      <td>MULTIPOLYGON (((-8230276.308 4985757.389, -823...</td>\n",
       "    </tr>\n",
       "  </tbody>\n",
       "</table>\n",
       "</div>"
      ],
      "text/plain": [
       "        neighbourhood neighbourhood_group  \\\n",
       "18  Battery Park City           Manhattan   \n",
       "43          Chinatown           Manhattan   \n",
       "52            Chelsea           Manhattan   \n",
       "53       Civic Center           Manhattan   \n",
       "80        East Harlem           Manhattan   \n",
       "\n",
       "                                             geometry  \n",
       "18  MULTIPOLYGON (((-8239173.407 4970202.287, -823...  \n",
       "43  MULTIPOLYGON (((-8237641.317 4970831.912, -823...  \n",
       "52  MULTIPOLYGON (((-8236914.735 4975858.173, -823...  \n",
       "53  MULTIPOLYGON (((-8237419.012 4970060.124, -823...  \n",
       "80  MULTIPOLYGON (((-8230276.308 4985757.389, -823...  "
      ]
     },
     "execution_count": 12,
     "metadata": {},
     "output_type": "execute_result"
    }
   ],
   "source": [
    "df_neighbourhoods.head()"
   ]
  },
  {
   "cell_type": "code",
   "execution_count": 13,
   "metadata": {
    "ExecuteTime": {
     "end_time": "2019-12-18T11:17:25.002449Z",
     "start_time": "2019-12-18T11:17:24.998983Z"
    }
   },
   "outputs": [],
   "source": [
    "#df_neighbourhoods.to_csv(\"/Users/alexander.roald/Desktop/df_neighbourhoods.csv\")"
   ]
  },
  {
   "cell_type": "code",
   "execution_count": 15,
   "metadata": {
    "ExecuteTime": {
     "end_time": "2019-12-18T11:17:31.001587Z",
     "start_time": "2019-12-18T11:17:25.490640Z"
    },
    "scrolled": true
   },
   "outputs": [],
   "source": [
    "# Keeping Manahattan for Airbnb\n",
    "df_airbnb = df_airbnb[df_airbnb.neighbourhood_group == 'Manhattan'] \n",
    "\n",
    "# Import reviews and rename listing_id to match with airbnb dataframe\n",
    "df_reviews = pd.read_csv(\"data/reviews.csv\")\n",
    "df_reviews = df_reviews.rename(columns= {\"listing_id\":\"id\"})\n",
    "\n",
    "# Filter reviews to only display the first review date for each airbnb\n",
    "df_reviews = pd.DataFrame(df_reviews.groupby('id')['date'].min())\n",
    "\n",
    "# Merge airbnb with reviews. This does remove airbnbs that have never had any reviews, however. \n",
    "df_airbnb = pd.merge(df_airbnb, df_reviews, on='id')\n",
    "\n",
    "# Extract year and month\n",
    "df_airbnb['date'] = pd.to_datetime(df_airbnb['date'])\n",
    "df_airbnb['year'] = df_airbnb['date'].dt.year\n",
    "df_airbnb['month'] = df_airbnb['date'].dt.month\n",
    "\n",
    "# Drop geometry\n",
    "df_airbnb = df_airbnb.drop('geometry', axis=1)\n",
    "\n",
    "# Add counter column for counting the different filters later\n",
    "df_airbnb.loc[:, 'counter'] = 1 "
   ]
  },
  {
   "cell_type": "markdown",
   "metadata": {
    "ExecuteTime": {
     "end_time": "2019-12-17T10:38:12.106895Z",
     "start_time": "2019-12-17T10:38:12.008595Z"
    }
   },
   "source": [
    "# Create inital filter columns from airbnb dataframe"
   ]
  },
  {
   "cell_type": "code",
   "execution_count": 16,
   "metadata": {
    "ExecuteTime": {
     "end_time": "2019-12-18T11:17:31.742729Z",
     "start_time": "2019-12-18T11:17:31.678344Z"
    },
    "scrolled": true
   },
   "outputs": [],
   "source": [
    "# Listing Type\n",
    "entire = df_airbnb[df_airbnb.room_type == 'Entire home/apt']\n",
    "room = df_airbnb[df_airbnb.room_type == 'Private room'] \n",
    "\n",
    "# Availability less or more than 100 days\n",
    "a_less = df_airbnb[df_airbnb.availability_365 < 100]\n",
    "a_more = df_airbnb[df_airbnb.availability_365 >= 100]\n",
    "\n",
    "# Minimum stay less or more than 30 days\n",
    "stay_less = df_airbnb[df_airbnb.minimum_nights < 30]\n",
    "\n",
    "# Most competitive airbnbs\n",
    "most_comp = df_airbnb[(df_airbnb.room_type == 'Entire home/apt') & (df_airbnb.availability_365 >= 100)\n",
    "                     & (df_airbnb.minimum_nights < 30)]"
   ]
  },
  {
   "cell_type": "markdown",
   "metadata": {},
   "source": [
    "# Create simplified dataframes for the different filters: year, neighbourhood count "
   ]
  },
  {
   "cell_type": "code",
   "execution_count": 17,
   "metadata": {
    "ExecuteTime": {
     "end_time": "2019-12-18T11:17:32.369711Z",
     "start_time": "2019-12-18T11:17:32.332742Z"
    },
    "scrolled": false
   },
   "outputs": [],
   "source": [
    "entire = entire[['neighbourhood', 'year', 'counter']]\n",
    "room = room[['neighbourhood', 'year', 'counter']]\n",
    "\n",
    "a_less = a_less[['neighbourhood', 'year', 'counter']]\n",
    "a_more = a_more[['neighbourhood', 'year', 'counter']]\n",
    "\n",
    "stay_less = stay_less[['neighbourhood', 'year', 'counter']]\n",
    "most_comp = most_comp[['neighbourhood', 'year', 'counter']]"
   ]
  },
  {
   "cell_type": "code",
   "execution_count": 18,
   "metadata": {
    "ExecuteTime": {
     "end_time": "2019-12-18T11:17:33.029556Z",
     "start_time": "2019-12-18T11:17:32.830847Z"
    },
    "scrolled": true
   },
   "outputs": [],
   "source": [
    "entire = pd.DataFrame(entire.pivot_table(index='neighbourhood', \n",
    "                columns='year', \n",
    "                values='counter',\n",
    "                fill_value=0, \n",
    "                aggfunc='count').unstack().to_frame().rename(columns={0:'entire'}))\n",
    "\n",
    "entire = entire.reset_index()\n",
    "\n",
    "room = pd.DataFrame(room.pivot_table(index='neighbourhood', \n",
    "                columns='year', \n",
    "                values='counter',\n",
    "                fill_value=0, \n",
    "                aggfunc='count').unstack().to_frame().rename(columns={0:'room'}))\n",
    "\n",
    "room = room.reset_index()\n",
    "\n",
    "a_less = pd.DataFrame(a_less.pivot_table(index='neighbourhood', \n",
    "                columns='year', \n",
    "                values='counter',\n",
    "                fill_value=0, \n",
    "                aggfunc='count').unstack().to_frame().rename(columns={0:'a_less'}))\n",
    "\n",
    "a_less = a_less.reset_index()\n",
    "\n",
    "a_more = pd.DataFrame(a_more.pivot_table(index='neighbourhood', \n",
    "                columns='year', \n",
    "                values='counter',\n",
    "                fill_value=0, \n",
    "                aggfunc='count').unstack().to_frame().rename(columns={0:'a_more'}))\n",
    "\n",
    "a_more = a_more.reset_index()\n",
    "\n",
    "stay_less = pd.DataFrame(stay_less.pivot_table(index='neighbourhood', \n",
    "                columns='year', \n",
    "                values='counter',\n",
    "                fill_value=0, \n",
    "                aggfunc='count').unstack().to_frame().rename(columns={0:'stay_less'}))\n",
    "\n",
    "stay_less = stay_less.reset_index()\n",
    "\n",
    "most_comp = pd.DataFrame(most_comp.pivot_table(index='neighbourhood', \n",
    "                columns='year', \n",
    "                values='counter',\n",
    "                fill_value=0, \n",
    "                aggfunc='count').unstack().to_frame().rename(columns={0:'most_comp'}))\n",
    "\n",
    "most_comp = most_comp.reset_index()"
   ]
  },
  {
   "cell_type": "code",
   "execution_count": 19,
   "metadata": {
    "ExecuteTime": {
     "end_time": "2019-12-18T11:17:33.400436Z",
     "start_time": "2019-12-18T11:17:33.362296Z"
    },
    "scrolled": true
   },
   "outputs": [
    {
     "data": {
      "text/html": [
       "<div>\n",
       "<style scoped>\n",
       "    .dataframe tbody tr th:only-of-type {\n",
       "        vertical-align: middle;\n",
       "    }\n",
       "\n",
       "    .dataframe tbody tr th {\n",
       "        vertical-align: top;\n",
       "    }\n",
       "\n",
       "    .dataframe thead th {\n",
       "        text-align: right;\n",
       "    }\n",
       "</style>\n",
       "<table border=\"1\" class=\"dataframe\">\n",
       "  <thead>\n",
       "    <tr style=\"text-align: right;\">\n",
       "      <th></th>\n",
       "      <th>year</th>\n",
       "      <th>neighbourhood</th>\n",
       "      <th>most_comp</th>\n",
       "      <th>stay_less</th>\n",
       "      <th>a_more</th>\n",
       "      <th>a_less</th>\n",
       "      <th>room</th>\n",
       "      <th>entire</th>\n",
       "    </tr>\n",
       "  </thead>\n",
       "  <tbody>\n",
       "    <tr>\n",
       "      <th>0</th>\n",
       "      <td>2009</td>\n",
       "      <td>Battery Park City</td>\n",
       "      <td>0</td>\n",
       "      <td>0</td>\n",
       "      <td>0</td>\n",
       "      <td>0</td>\n",
       "      <td>0</td>\n",
       "      <td>0</td>\n",
       "    </tr>\n",
       "    <tr>\n",
       "      <th>1</th>\n",
       "      <td>2009</td>\n",
       "      <td>Chelsea</td>\n",
       "      <td>0</td>\n",
       "      <td>1</td>\n",
       "      <td>0</td>\n",
       "      <td>1</td>\n",
       "      <td>1</td>\n",
       "      <td>0</td>\n",
       "    </tr>\n",
       "    <tr>\n",
       "      <th>2</th>\n",
       "      <td>2009</td>\n",
       "      <td>Chinatown</td>\n",
       "      <td>0</td>\n",
       "      <td>1</td>\n",
       "      <td>0</td>\n",
       "      <td>1</td>\n",
       "      <td>0</td>\n",
       "      <td>1</td>\n",
       "    </tr>\n",
       "    <tr>\n",
       "      <th>3</th>\n",
       "      <td>2009</td>\n",
       "      <td>Civic Center</td>\n",
       "      <td>0</td>\n",
       "      <td>0</td>\n",
       "      <td>0</td>\n",
       "      <td>0</td>\n",
       "      <td>0</td>\n",
       "      <td>0</td>\n",
       "    </tr>\n",
       "    <tr>\n",
       "      <th>4</th>\n",
       "      <td>2009</td>\n",
       "      <td>East Harlem</td>\n",
       "      <td>0</td>\n",
       "      <td>0</td>\n",
       "      <td>0</td>\n",
       "      <td>0</td>\n",
       "      <td>0</td>\n",
       "      <td>0</td>\n",
       "    </tr>\n",
       "    <tr>\n",
       "      <th>...</th>\n",
       "      <td>...</td>\n",
       "      <td>...</td>\n",
       "      <td>...</td>\n",
       "      <td>...</td>\n",
       "      <td>...</td>\n",
       "      <td>...</td>\n",
       "      <td>...</td>\n",
       "      <td>...</td>\n",
       "    </tr>\n",
       "    <tr>\n",
       "      <th>347</th>\n",
       "      <td>2019</td>\n",
       "      <td>Two Bridges</td>\n",
       "      <td>2</td>\n",
       "      <td>17</td>\n",
       "      <td>6</td>\n",
       "      <td>12</td>\n",
       "      <td>11</td>\n",
       "      <td>7</td>\n",
       "    </tr>\n",
       "    <tr>\n",
       "      <th>348</th>\n",
       "      <td>2019</td>\n",
       "      <td>Upper East Side</td>\n",
       "      <td>65</td>\n",
       "      <td>228</td>\n",
       "      <td>142</td>\n",
       "      <td>140</td>\n",
       "      <td>68</td>\n",
       "      <td>201</td>\n",
       "    </tr>\n",
       "    <tr>\n",
       "      <th>349</th>\n",
       "      <td>2019</td>\n",
       "      <td>Upper West Side</td>\n",
       "      <td>31</td>\n",
       "      <td>189</td>\n",
       "      <td>89</td>\n",
       "      <td>147</td>\n",
       "      <td>83</td>\n",
       "      <td>144</td>\n",
       "    </tr>\n",
       "    <tr>\n",
       "      <th>350</th>\n",
       "      <td>2019</td>\n",
       "      <td>Washington Heights</td>\n",
       "      <td>19</td>\n",
       "      <td>165</td>\n",
       "      <td>62</td>\n",
       "      <td>106</td>\n",
       "      <td>113</td>\n",
       "      <td>54</td>\n",
       "    </tr>\n",
       "    <tr>\n",
       "      <th>351</th>\n",
       "      <td>2019</td>\n",
       "      <td>West Village</td>\n",
       "      <td>23</td>\n",
       "      <td>100</td>\n",
       "      <td>42</td>\n",
       "      <td>74</td>\n",
       "      <td>16</td>\n",
       "      <td>95</td>\n",
       "    </tr>\n",
       "  </tbody>\n",
       "</table>\n",
       "<p>352 rows × 8 columns</p>\n",
       "</div>"
      ],
      "text/plain": [
       "     year       neighbourhood  most_comp  stay_less  a_more  a_less  room  \\\n",
       "0    2009   Battery Park City          0          0       0       0     0   \n",
       "1    2009             Chelsea          0          1       0       1     1   \n",
       "2    2009           Chinatown          0          1       0       1     0   \n",
       "3    2009        Civic Center          0          0       0       0     0   \n",
       "4    2009         East Harlem          0          0       0       0     0   \n",
       "..    ...                 ...        ...        ...     ...     ...   ...   \n",
       "347  2019         Two Bridges          2         17       6      12    11   \n",
       "348  2019     Upper East Side         65        228     142     140    68   \n",
       "349  2019     Upper West Side         31        189      89     147    83   \n",
       "350  2019  Washington Heights         19        165      62     106   113   \n",
       "351  2019        West Village         23        100      42      74    16   \n",
       "\n",
       "     entire  \n",
       "0         0  \n",
       "1         0  \n",
       "2         1  \n",
       "3         0  \n",
       "4         0  \n",
       "..      ...  \n",
       "347       7  \n",
       "348     201  \n",
       "349     144  \n",
       "350      54  \n",
       "351      95  \n",
       "\n",
       "[352 rows x 8 columns]"
      ]
     },
     "execution_count": 19,
     "metadata": {},
     "output_type": "execute_result"
    }
   ],
   "source": [
    "neighbourhood_data = pd.merge(most_comp, stay_less['stay_less'], left_index=True, right_index=True, how='outer')\n",
    "neighbourhood_data = pd.merge(neighbourhood_data, a_more['a_more'], left_index=True, right_index=True, how='outer')\n",
    "neighbourhood_data = pd.merge(neighbourhood_data, a_less['a_less'], left_index=True, right_index=True, how='outer')\n",
    "neighbourhood_data = pd.merge(neighbourhood_data, room['room'], left_index=True, right_index=True, how='outer')\n",
    "neighbourhood_data = pd.merge(neighbourhood_data, entire['entire'], left_index=True, right_index=True, how='outer')\n",
    "neighbourhood_data"
   ]
  },
  {
   "cell_type": "code",
   "execution_count": 20,
   "metadata": {
    "ExecuteTime": {
     "end_time": "2019-12-18T11:17:33.824475Z",
     "start_time": "2019-12-18T11:17:33.806468Z"
    }
   },
   "outputs": [],
   "source": [
    "# neighbourhood_data.to_csv(\"/Users/alexander.roald/Desktop/neighbourhood_data.csv\")"
   ]
  },
  {
   "cell_type": "markdown",
   "metadata": {},
   "source": [
    "# Create Colorbar to format lookup table"
   ]
  },
  {
   "cell_type": "code",
   "execution_count": 21,
   "metadata": {
    "ExecuteTime": {
     "end_time": "2019-12-18T12:04:51.973176Z",
     "start_time": "2019-12-18T12:04:51.953530Z"
    }
   },
   "outputs": [
    {
     "data": {
      "text/html": [
       "<div>\n",
       "<style scoped>\n",
       "    .dataframe tbody tr th:only-of-type {\n",
       "        vertical-align: middle;\n",
       "    }\n",
       "\n",
       "    .dataframe tbody tr th {\n",
       "        vertical-align: top;\n",
       "    }\n",
       "\n",
       "    .dataframe thead th {\n",
       "        text-align: right;\n",
       "    }\n",
       "</style>\n",
       "<table border=\"1\" class=\"dataframe\">\n",
       "  <thead>\n",
       "    <tr style=\"text-align: right;\">\n",
       "      <th></th>\n",
       "      <th>field</th>\n",
       "      <th>min_range</th>\n",
       "      <th>max_range</th>\n",
       "      <th>format</th>\n",
       "      <th>verbage</th>\n",
       "    </tr>\n",
       "  </thead>\n",
       "  <tbody>\n",
       "    <tr>\n",
       "      <th>0</th>\n",
       "      <td>most_comp</td>\n",
       "      <td>0</td>\n",
       "      <td>250</td>\n",
       "      <td>0</td>\n",
       "      <td>Most Competitive Airbnbs</td>\n",
       "    </tr>\n",
       "    <tr>\n",
       "      <th>1</th>\n",
       "      <td>stay_less</td>\n",
       "      <td>0</td>\n",
       "      <td>450</td>\n",
       "      <td>0</td>\n",
       "      <td>Minimum stay &lt; 30 days</td>\n",
       "    </tr>\n",
       "    <tr>\n",
       "      <th>2</th>\n",
       "      <td>a_more</td>\n",
       "      <td>0</td>\n",
       "      <td>250</td>\n",
       "      <td>0</td>\n",
       "      <td>Availability &gt; 100 days per year</td>\n",
       "    </tr>\n",
       "    <tr>\n",
       "      <th>3</th>\n",
       "      <td>a_less</td>\n",
       "      <td>0</td>\n",
       "      <td>300</td>\n",
       "      <td>0</td>\n",
       "      <td>Availability &lt; 100 days per year</td>\n",
       "    </tr>\n",
       "    <tr>\n",
       "      <th>4</th>\n",
       "      <td>room</td>\n",
       "      <td>0</td>\n",
       "      <td>300</td>\n",
       "      <td>0</td>\n",
       "      <td>Private Rooms</td>\n",
       "    </tr>\n",
       "    <tr>\n",
       "      <th>5</th>\n",
       "      <td>entire</td>\n",
       "      <td>0</td>\n",
       "      <td>300</td>\n",
       "      <td>0</td>\n",
       "      <td>Entire Homes</td>\n",
       "    </tr>\n",
       "  </tbody>\n",
       "</table>\n",
       "</div>"
      ],
      "text/plain": [
       "       field  min_range  max_range format                           verbage\n",
       "0  most_comp          0        250      0          Most Competitive Airbnbs\n",
       "1  stay_less          0        450      0            Minimum stay < 30 days\n",
       "2     a_more          0        250      0  Availability > 100 days per year\n",
       "3     a_less          0        300      0  Availability < 100 days per year\n",
       "4       room          0        300      0                     Private Rooms\n",
       "5     entire          0        300      0                      Entire Homes"
      ]
     },
     "execution_count": 21,
     "metadata": {},
     "output_type": "execute_result"
    }
   ],
   "source": [
    "# This dictionary contains the formatting for the data in the plots\n",
    "format_data = [('most_comp', 0, 250,'0', 'Most Competitive Airbnbs'),\n",
    "               ('stay_less', 0, 450,'0', 'Minimum stay < 30 days'),\n",
    "               ('a_more', 0, 250, '0', 'Availability > 100 days per year'),\n",
    "               ('a_less', 0, 300,'0', 'Availability < 100 days per year'),\n",
    "               ('room', 0, 300,'0', 'Private Rooms'),\n",
    "               ('entire', 0, 300,'0', 'Entire Homes')\n",
    "              ]\n",
    " \n",
    "#Create a DataFrame object from the dictionary \n",
    "format_df = pd.DataFrame(format_data, columns = ['field' , 'min_range', 'max_range' , 'format', 'verbage'])\n",
    "format_df.head(10)"
   ]
  },
  {
   "cell_type": "markdown",
   "metadata": {},
   "source": [
    "# Create Interactive Plot"
   ]
  },
  {
   "cell_type": "code",
   "execution_count": 23,
   "metadata": {
    "ExecuteTime": {
     "end_time": "2019-12-18T12:37:07.379318Z",
     "start_time": "2019-12-18T12:37:07.253279Z"
    },
    "scrolled": false
   },
   "outputs": [
    {
     "name": "stderr",
     "output_type": "stream",
     "text": [
      "WARNING:bokeh.embed.util:\n",
      "You are generating standalone HTML/JS output, but trying to use real Python\n",
      "callbacks (i.e. with on_change or on_event). This combination cannot work.\n",
      "\n",
      "Only JavaScript callbacks may be used with standalone output. For more\n",
      "information on JavaScript callbacks with Bokeh, see:\n",
      "\n",
      "    https://docs.bokeh.org/en/latest/docs/user_guide/interaction/callbacks.html\n",
      "\n",
      "Alternatively, to use real Python callbacks, a Bokeh server application may\n",
      "be used. For more information on building and running Bokeh applications, see:\n",
      "\n",
      "    https://docs.bokeh.org/en/latest/docs/user_guide/server.html\n",
      "\n"
     ]
    }
   ],
   "source": [
    "#output_file('test')\n",
    "\n",
    "# Create a function the returns json_data for the year selected by the user\n",
    "def json_data(selectedYear):\n",
    "    yr = selectedYear\n",
    "    \n",
    "    # Pull selected year from neighborhood summary data\n",
    "    df_yr = neighbourhood_data[neighbourhood_data['year'] == yr]\n",
    "    \n",
    "    # Merge the GeoDataframe object (df_neighbourhood) with the neighborhood summary data (neighborhood)\n",
    "    merged = pd.merge(df_neighbourhoods, df_yr, on='neighbourhood', how='left')\n",
    "    \n",
    "    # Fill the null values\n",
    "    values = {'year': yr, 'most_comp': 0, 'stay_less': 0, 'a_more': 0,\n",
    "              'a_less': 0, 'room': 0, 'entire': 0}\n",
    "    merged = merged.fillna(value=values)\n",
    "    \n",
    "    # Bokeh uses geojson formatting, representing geographical features, with json\n",
    "    # Convert to json\n",
    "    merged_json = json.loads(merged.to_json())\n",
    "    \n",
    "    # Convert to json preferred string-like object \n",
    "    json_data = json.dumps(merged_json)\n",
    "    return json_data\n",
    "\n",
    "# Define the callback function: update_plot\n",
    "def update_plot(attr, old, new):\n",
    "    # The input yr is the year selected from the slider\n",
    "    yr = slider.value\n",
    "    new_data = json_data(yr)\n",
    "    \n",
    "    # The input cr is the criteria selected from the select box\n",
    "    cr = select.value\n",
    "    input_field = format_df.loc[format_df['verbage'] == cr, 'field'].iloc[0]\n",
    "    \n",
    "    # Update the plot based on the changed inputs\n",
    "    p = make_plot(input_field)\n",
    "    \n",
    "    # Update the layout, clear the old document and display the new document\n",
    "    layout = column(p, widgetbox(select), widgetbox(slider))\n",
    "    curdoc().clear()\n",
    "    curdoc().add_root(layout)\n",
    "    \n",
    "    # Update the data\n",
    "    geosource.geojson = new_data \n",
    "\n",
    "# Create a plotting function\n",
    "def make_plot(field_name):    \n",
    "  # Set the format of the colorbar\n",
    "  min_range = format_df.loc[format_df['field'] == field_name, 'min_range'].iloc[0]\n",
    "  max_range = format_df.loc[format_df['field'] == field_name, 'max_range'].iloc[0]\n",
    "  field_format = format_df.loc[format_df['field'] == field_name, 'format'].iloc[0]\n",
    "\n",
    "  # Instantiate LinearColorMapper that linearly maps numbers in a range, into a sequence of colors.\n",
    "  color_mapper = LinearColorMapper(palette = palette, low = min_range, high = max_range)\n",
    "\n",
    "  # Create color bar.\n",
    "  format_tick = NumeralTickFormatter(format=field_format)\n",
    "  color_bar = ColorBar(color_mapper=color_mapper, label_standoff=18, formatter=format_tick,\n",
    "  border_line_color=None, location = (0, 0))\n",
    "\n",
    "  # Create figure object.\n",
    "  verbage = format_df.loc[format_df['field'] == field_name, 'verbage'].iloc[0]\n",
    "\n",
    "  p = figure(title = verbage + ' by neighbourhood in Manhattan - 2009 to 2019', \n",
    "             plot_height = 650, plot_width = 850, tools=(\"pan,wheel_zoom,box_zoom,reset\"),\n",
    "             toolbar_location = \"below\")\n",
    "  p.xgrid.grid_line_color = None\n",
    "  p.ygrid.grid_line_color = None\n",
    "  p.axis.visible = False\n",
    "\n",
    "  # Add patch renderer to figure. \n",
    "  p.patches('xs','ys', source = geosource, fill_color = {'field' : field_name, 'transform' : color_mapper},\n",
    "          line_color = 'black', line_width = 0.25, fill_alpha = 1)\n",
    "  \n",
    "  # Specify color bar layout.\n",
    "  p.add_layout(color_bar, 'right')\n",
    "\n",
    "  # Add the hover tool to the graph\n",
    "  p.add_tools(hover)\n",
    "  return p\n",
    "\n",
    "# Input geojson source that contains features for plotting for:\n",
    "# initial year 2018 and initial criteria most_comp\n",
    "geosource = GeoJSONDataSource(geojson = json_data(2009))\n",
    "input_field = 'most_comp'\n",
    "\n",
    "# Define a sequential multi-hue color palette.\n",
    "palette = brewer['Blues'][8]\n",
    "\n",
    "# Reverse color order so that dark blue is highest obesity.\n",
    "palette = palette[::-1]\n",
    "\n",
    "# Add hover tool\n",
    "hover = HoverTool(tooltips = [ ('Neighborhood','@neighborhood'),\n",
    "                               ('Most Competitive', '@most_comp'),\n",
    "                               ('Min stay < 30', '$stay_less'),\n",
    "                               ('Avail > 100', '@a_more'),\n",
    "                               ('Avail < 100', '@a_less'),\n",
    "                               ('Private room', '@room'),\n",
    "                               ('Entire home', '@entire')])\n",
    "\n",
    "# Call the plotting function\n",
    "p = make_plot(input_field)\n",
    "\n",
    "# Make a slider object: slider \n",
    "slider = Slider(title = 'Year',start = 2009, end = 2019, step = 1, value = 2009)\n",
    "slider.on_change('value', update_plot)\n",
    "\n",
    "# Make a selection object: select\n",
    "select = Select(title='Select Criteria:', value='Most Competitive Airbnbs', \n",
    "                options=['Most Competitive Airbnbs', 'Minimum stay < 30 days',\n",
    "                        'Availability > 100 days', 'Availability < 100 days',\n",
    "                        'Private Rooms', 'Entire Homes'])\n",
    "select.on_change('value', update_plot)\n",
    "\n",
    "# Make a column layout of widgetbox(slider) and plot, and add it to the current document\n",
    "# Display the current document\n",
    "layout = column(p, widgetbox(select), widgetbox(slider))\n",
    "curdoc().add_root(layout)\n",
    "show(layout)"
   ]
  },
  {
   "cell_type": "code",
   "execution_count": null,
   "metadata": {},
   "outputs": [],
   "source": []
  },
  {
   "cell_type": "code",
   "execution_count": null,
   "metadata": {},
   "outputs": [],
   "source": []
  },
  {
   "cell_type": "code",
   "execution_count": null,
   "metadata": {},
   "outputs": [],
   "source": []
  }
 ],
 "metadata": {
  "kernelspec": {
   "display_name": "Python 3",
   "language": "python",
   "name": "python3"
  },
  "language_info": {
   "codemirror_mode": {
    "name": "ipython",
    "version": 3
   },
   "file_extension": ".py",
   "mimetype": "text/x-python",
   "name": "python",
   "nbconvert_exporter": "python",
   "pygments_lexer": "ipython3",
   "version": "3.7.5"
  },
  "toc": {
   "base_numbering": 1,
   "nav_menu": {},
   "number_sections": true,
   "sideBar": true,
   "skip_h1_title": false,
   "title_cell": "Table of Contents",
   "title_sidebar": "Contents",
   "toc_cell": false,
   "toc_position": {},
   "toc_section_display": true,
   "toc_window_display": false
  },
  "varInspector": {
   "cols": {
    "lenName": 16,
    "lenType": 16,
    "lenVar": 40
   },
   "kernels_config": {
    "python": {
     "delete_cmd_postfix": "",
     "delete_cmd_prefix": "del ",
     "library": "var_list.py",
     "varRefreshCmd": "print(var_dic_list())"
    },
    "r": {
     "delete_cmd_postfix": ") ",
     "delete_cmd_prefix": "rm(",
     "library": "var_list.r",
     "varRefreshCmd": "cat(var_dic_list()) "
    }
   },
   "types_to_exclude": [
    "module",
    "function",
    "builtin_function_or_method",
    "instance",
    "_Feature"
   ],
   "window_display": false
  }
 },
 "nbformat": 4,
 "nbformat_minor": 2
}
